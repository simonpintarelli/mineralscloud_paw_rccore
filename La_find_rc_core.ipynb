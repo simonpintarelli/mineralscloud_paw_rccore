{
 "cells": [
  {
   "cell_type": "code",
   "execution_count": 3,
   "id": "8a88bfbf-d396-4a81-8b06-0fd61020710b",
   "metadata": {},
   "outputs": [],
   "source": [
    "import tempfile\n",
    "import subprocess, pathlib, shutil\n",
    "import numpy as np\n",
    "import matplotlib.pyplot as plt\n",
    "%matplotlib widget"
   ]
  },
  {
   "cell_type": "code",
   "execution_count": 4,
   "id": "8112fbe2-1add-40a9-8788-e7a5d56e66e4",
   "metadata": {},
   "outputs": [],
   "source": [
    "#exe=\"/scratch/spack-builds/atompaw-4.2.0.1/.spack-env/view/bin/atompaw\"\n",
    "exe=\"/home/simon/Software/atompaw-4.2.0.2/atompaw-4.2.0.2/src/atompaw\""
   ]
  },
  {
   "cell_type": "code",
   "execution_count": 5,
   "id": "e2c22937-3969-4043-b939-25bc5fe39d94",
   "metadata": {},
   "outputs": [],
   "source": [
    "element = 'La'\n",
    "inputfile = \"\"\"La  57\n",
    "GGA-PBE  loggrid 2001 scalarrelativistic logderivrange -8 8 500\n",
    "6 5 5 4 0\n",
    "5 2 1\n",
    "4 3 0\n",
    "0 0 0\n",
    "c\n",
    "c\n",
    "c\n",
    "c\n",
    "v\n",
    "v\n",
    "c\n",
    "c\n",
    "c\n",
    "v\n",
    "c\n",
    "c\n",
    "v\n",
    "v\n",
    "3\n",
    "2.45 2.041 2.45 {rcore:.5f}                                             ! rpaw, rshape, rveff, rcore\n",
    "n\n",
    "y\n",
    "2.0\n",
    "n\n",
    "y\n",
    "2.0\n",
    "n\n",
    "y\n",
    "2.0\n",
    "n\n",
    "VANDERBILT BESSELSHAPE\n",
    "4 0.0\n",
    "2.41\n",
    "2.41\n",
    "2.41\n",
    "2.41\n",
    "2.41\n",
    "2.41\n",
    "2.41\n",
    "2.41\n",
    "ABINITOUT\n",
    "default\n",
    "PWSCFOUT\n",
    "UPFDX  0.0125d0  UPFXMIN  -7.d0  UPFZMESH  57.0\n",
    "END\n",
    "0\"\"\""
   ]
  },
  {
   "cell_type": "code",
   "execution_count": 6,
   "id": "36ed3353-3c8b-4dbc-bc6c-568e4d6cbb78",
   "metadata": {},
   "outputs": [],
   "source": [
    "def run_atompaw(inputfile, rc_core):\n",
    "    with tempfile.TemporaryDirectory() as tmpdirname:\n",
    "        inputfile = inputfile.format(rcore=rc_core)\n",
    "        procout = subprocess.run(exe, input=inputfile.encode(), \n",
    "                                 cwd=tmpdirname, shell=True, check=True, capture_output=True)\n",
    "        outputs = list(pathlib.Path(tmpdirname).glob('*UPF'))\n",
    "        #return procout\n",
    "        if len(outputs) != 1:\n",
    "            #return procout\n",
    "            return {'upf': None, 'rc_core': rc_core, 'upf_generated': False, 'input': inputfile}        \n",
    "        with open(outputs[0], 'r') as upf:\n",
    "            return {'upf': upf.read(), 'rc_core': rc_core, 'upf_generated': True, 'input': inputfile}"
   ]
  },
  {
   "cell_type": "code",
   "execution_count": 7,
   "id": "a7d197e2-f34b-4a51-a6e7-f3c6eb5131eb",
   "metadata": {},
   "outputs": [],
   "source": [
    "def bisection_search(F, a, b, tol=1e-2, maxstep=10):\n",
    "    # must have initial a,b such that F(a) -> good, F(b) -> bad\n",
    "    x = (a+b)/2\n",
    "    diff = b-a\n",
    "    fx = F(x)\n",
    "    i = 0\n",
    "    fa = F(a)\n",
    "    if not fa['upf_generated']:\n",
    "        raise Exception('invalid starting guess F(a) must producing a UPF file')\n",
    "    # last working value\n",
    "    fl = fa\n",
    "    \n",
    "    while diff > tol:\n",
    "        if fx['upf_generated']:\n",
    "            # worked, try to increase r_core\n",
    "            a = x\n",
    "            fl = fx\n",
    "        else:\n",
    "            # failed\n",
    "            b = x\n",
    "        x = (a+b)/2\n",
    "        diff = b-a\n",
    "        print('* tol %.2g' % diff)\n",
    "        print('\\t trying rc_core=', x)\n",
    "        fx = F(x)        \n",
    "        i = i+1\n",
    "        if i >= maxstep:\n",
    "            raise Exception('bisection search failed.')\n",
    "    return a, fl"
   ]
  },
  {
   "cell_type": "code",
   "execution_count": 8,
   "id": "ecb16f8e-5c79-4fe8-9352-853936696d44",
   "metadata": {},
   "outputs": [
    {
     "name": "stdout",
     "output_type": "stream",
     "text": [
      "* tol 0.05\n",
      "\t trying rc_core= 1.625\n",
      "* tol 0.025\n",
      "\t trying rc_core= 1.6125\n",
      "* tol 0.012\n",
      "\t trying rc_core= 1.6062500000000002\n",
      "* tol 0.0062\n",
      "\t trying rc_core= 1.609375\n",
      "* tol 0.0031\n",
      "\t trying rc_core= 1.6078125\n",
      "* tol 0.0016\n",
      "\t trying rc_core= 1.6070312500000001\n",
      "* tol 0.00078\n",
      "\t trying rc_core= 1.6066406250000003\n",
      "* tol 0.00039\n",
      "\t trying rc_core= 1.6068359375\n",
      "* tol 0.0002\n",
      "\t trying rc_core= 1.60693359375\n",
      "* tol 9.8e-05\n",
      "\t trying rc_core= 1.606884765625\n",
      "* tol 4.9e-05\n",
      "\t trying rc_core= 1.6069091796875\n",
      "* tol 2.4e-05\n",
      "\t trying rc_core= 1.60689697265625\n",
      "* tol 1.2e-05\n",
      "\t trying rc_core= 1.6068908691406252\n",
      "* tol 6.1e-06\n",
      "\t trying rc_core= 1.6068939208984376\n",
      "* tol 3.1e-06\n",
      "\t trying rc_core= 1.6068954467773438\n",
      "* tol 1.5e-06\n",
      "\t trying rc_core= 1.6068946838378908\n",
      "* tol 7.6e-07\n",
      "\t trying rc_core= 1.6068950653076173\n"
     ]
    }
   ],
   "source": [
    "r, res = bisection_search(lambda r: run_atompaw(inputfile, r), 1.6, 1.7, tol=1e-6, maxstep=30)"
   ]
  },
  {
   "cell_type": "code",
   "execution_count": 9,
   "id": "450a3d44-d958-4414-9f04-72c68b0c086b",
   "metadata": {},
   "outputs": [],
   "source": [
    "with open('{:s}.upf'.format(element), 'w') as file:\n",
    "    file.write(res['upf'])\n",
    "with open('{:s}-atompaw.in'.format(element), 'w') as file:\n",
    "    file.write(res['input'])"
   ]
  },
  {
   "cell_type": "code",
   "execution_count": 10,
   "id": "42c6c928-0215-4273-99de-ff50098fa47d",
   "metadata": {},
   "outputs": [],
   "source": [
    "ll = [(x,run_atompaw(inputfile, rc_core=x)) for x in np.linspace(1., 2.5, 30)]"
   ]
  },
  {
   "cell_type": "code",
   "execution_count": 11,
   "id": "38ca63b1-594d-440d-924f-f291ed121dbb",
   "metadata": {},
   "outputs": [
    {
     "data": {
      "text/plain": [
       "[<matplotlib.lines.Line2D at 0x7f65d6023f40>]"
      ]
     },
     "execution_count": 11,
     "metadata": {},
     "output_type": "execute_result"
    },
    {
     "data": {
      "application/vnd.jupyter.widget-view+json": {
       "model_id": "204590e173b44c6683358788fdc84117",
       "version_major": 2,
       "version_minor": 0
      },
      "image/png": "[encoded data removed]",
      "text/html": [
       "\n",
       "            <div style=\"display: inline-block;\">\n",
       "                <div class=\"jupyter-widgets widget-label\" style=\"text-align: center;\">\n",
       "                    Figure\n",
       "                </div>\n",
       "                <img src='data:image/png;base64,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' width=640.0/>\n",
       "            </div>\n",
       "        "
      ],
      "text/plain": [
       "Canvas(toolbar=Toolbar(toolitems=[('Home', 'Reset original view', 'home', 'home'), ('Back', 'Back to previous …"
      ]
     },
     "metadata": {},
     "output_type": "display_data"
    }
   ],
   "source": [
    "rs, good = zip(*[(r, res['upf_generated']) for r, res in ll])\n",
    "plt.plot(rs, good, '-x')"
   ]
  },
  {
   "cell_type": "code",
   "execution_count": null,
   "id": "589affaf-5db9-40f7-a4b2-7c3ca271741e",
   "metadata": {},
   "outputs": [],
   "source": []
  }
 ],
 "metadata": {
  "kernelspec": {
   "display_name": "Python 3 (ipykernel)",
   "language": "python",
   "name": "python3"
  },
  "language_info": {
   "codemirror_mode": {
    "name": "ipython",
    "version": 3
   },
   "file_extension": ".py",
   "mimetype": "text/x-python",
   "name": "python",
   "nbconvert_exporter": "python",
   "pygments_lexer": "ipython3",
   "version": "3.10.8"
  }
 },
 "nbformat": 4,
 "nbformat_minor": 5
}
